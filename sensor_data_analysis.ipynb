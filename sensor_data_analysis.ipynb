{
 "cells": [
  {
   "cell_type": "markdown",
   "id": "1c7b690f",
   "metadata": {},
   "source": [
    "# Sensor Data Analysis and Feature Engineering\n",
    "This notebook provides a step-by-step process for advanced analysis, feature engineering, visualization, and report generation for sensor data. Each section includes explanatory markdown and corresponding code cells."
   ]
  },
  {
   "cell_type": "markdown",
   "id": "3ab4d523",
   "metadata": {},
   "source": [
    "## 1. Setup and Imports\n",
    "Import necessary libraries and set up environment."
   ]
  },
  {
   "cell_type": "markdown",
   "id": "e876320b",
   "metadata": {},
   "source": []
  },
  {
   "cell_type": "code",
   "execution_count": null,
   "id": "709f8968",
   "metadata": {},
   "outputs": [],
   "source": [
    "import pandas as pd\n",
    "import numpy as np\n",
    "import matplotlib.pyplot as plt\n",
    "from statsmodels.tsa.seasonal import seasonal_decompose\n",
    "from sklearn.decomposition import PCA\n",
    "from sklearn.preprocessing import StandardScaler\n",
    "from sklearn.ensemble import IsolationForest\n",
    "from sklearn.cluster import DBSCAN\n",
    "from scipy.fft import fft\n",
    "from scipy.stats import iqr\n",
    "\n",
    "# Configure plot aesthetics\n",
    "plt.rcParams['figure.figsize'] = (10, 6)\n"
   ]
  },
  {
   "cell_type": "markdown",
   "id": "b210c82e",
   "metadata": {},
   "source": [
    "## 2. Data Loading\n",
    "Load the sensor data CSV file with proper parsing."
   ]
  },
  {
   "cell_type": "code",
   "execution_count": null,
   "id": "b4dd67b2",
   "metadata": {},
   "outputs": [],
   "source": [
    "# Load data\n",
    "df = pd.read_csv('sensor_data.csv', parse_dates=['timestamp'], index_col='timestamp')\n",
    "df.head()"
   ]
  },
  {
   "cell_type": "markdown",
   "id": "473ad879",
   "metadata": {},
   "source": [
    "## 3. Advanced Data Analysis\n",
    "### 3.1 Time-Series Decomposition\n",
    "Decompose each feature into trend, seasonal, and residual components."
   ]
  },
  {
   "cell_type": "code",
   "execution_count": null,
   "id": "b9b9151b",
   "metadata": {},
   "outputs": [],
   "source": [
    "features = ['temperature', 'vibration', 'pressure']\n",
    "\n",
    "for feature in features:\n",
    "    decomposition = seasonal_decompose(df[feature].dropna(), model='additive', period=60)\n",
    "    fig = decomposition.plot()\n",
    "    fig.suptitle(f'Time-Series Decomposition for {feature.capitalize()}', y=1.05)\n",
    "    plt.show()"
   ]
  },
  {
   "cell_type": "markdown",
   "id": "add841eb",
   "metadata": {},
   "source": [
    "### 3.2 Principal Component Analysis (PCA)\n",
    "Scale features and perform PCA to reduce to 2 components."
   ]
  },
  {
   "cell_type": "code",
   "execution_count": null,
   "id": "985933b2",
   "metadata": {},
   "outputs": [],
   "source": [
    "X = df[features].dropna()\n",
    "scaler = StandardScaler()\n",
    "X_scaled = scaler.fit_transform(X)\n",
    "\n",
    "pca = PCA(n_components=2)\n",
    "X_pca = pca.fit_transform(X_scaled)\n",
    "\n",
    "print(\"Explained Variance Ratio:\", pca.explained_variance_ratio_)\n"
   ]
  },
  {
   "cell_type": "markdown",
   "id": "6272b038",
   "metadata": {},
   "source": [
    "### 3.3 Anomaly Detection\n",
    "Use Isolation Forest and DBSCAN to detect anomalies."
   ]
  },
  {
   "cell_type": "code",
   "execution_count": null,
   "id": "a06341e5",
   "metadata": {},
   "outputs": [],
   "source": [
    "# Isolation Forest\n",
    "iso_forest = IsolationForest(contamination=0.05, random_state=42)\n",
    "df['anomaly_iso'] = iso_forest.fit_predict(X_scaled)\n",
    "\n",
    "# DBSCAN\n",
    "dbscan = DBSCAN(eps=0.5, min_samples=5)\n",
    "df['anomaly_dbscan'] = dbscan.fit_predict(X_scaled)\n",
    "\n",
    "df[['anomaly_iso', 'anomaly_dbscan']].value_counts()"
   ]
  },
  {
   "cell_type": "markdown",
   "id": "f3aabd5f",
   "metadata": {},
   "source": [
    "## 4. Feature Engineering\n",
    "Create derived features to enhance modeling."
   ]
  },
  {
   "cell_type": "code",
   "execution_count": null,
   "id": "91632f75",
   "metadata": {},
   "outputs": [],
   "source": [
    "# Rate of change\n",
    "for feature in features:\n",
    "    df[f'{feature}_diff'] = df[feature].diff()\n",
    "\n",
    "# Exponential moving averages and degradation\n",
    "for feature in features:\n",
    "    df[f'{feature}_ema_short'] = df[feature].ewm(span=10).mean()\n",
    "    df[f'{feature}_ema_long'] = df[feature].ewm(span=50).mean()\n",
    "    df[f'{feature}_degradation'] = df[f'{feature}_ema_short'] - df[f'{feature}_ema_long']\n",
    "\n",
    "# Rolling statistics\n",
    "window = 20\n",
    "for feature in features:\n",
    "    df[f'{feature}_rolling_mean'] = df[feature].rolling(window).mean()\n",
    "    df[f'{feature}_rolling_std'] = df[feature].rolling(window).std()\n",
    "    df[f'{feature}_rolling_iqr'] = df[feature].rolling(window).apply(iqr)"
   ]
  },
  {
   "cell_type": "markdown",
   "id": "341081f2",
   "metadata": {},
   "source": [
    "## 5. Visualization\n",
    "Plot key insights from data and engineered features."
   ]
  },
  {
   "cell_type": "code",
   "execution_count": null,
   "id": "ad10411d",
   "metadata": {},
   "outputs": [],
   "source": [
    "# Correlation heatmap\n",
    "import seaborn as sns\n",
    "corr = df[features].corr()\n",
    "sns.heatmap(corr, annot=True, cmap='coolwarm')\n",
    "plt.title(\"Feature Correlation Heatmap\")\n",
    "plt.show()\n",
    "\n",
    "# PCA Scatter with anomalies\n",
    "plt.scatter(X_pca[:,0], X_pca[:,1], c=df['anomaly_iso'], alpha=0.6)\n",
    "plt.xlabel('PC1'); plt.ylabel('PC2')\n",
    "plt.title('PCA Scatter Plot with Isolation Forest Anomalies')\n",
    "plt.colorbar(label='Anomaly')\n",
    "plt.show()"
   ]
  },
  {
   "cell_type": "markdown",
   "id": "5871d048",
   "metadata": {},
   "source": [
    "## 6. Report Generation\n",
    "Save analysis summaries to text files."
   ]
  },
  {
   "cell_type": "code",
   "execution_count": null,
   "id": "31892ea5",
   "metadata": {},
   "outputs": [],
   "source": [
    "# Advanced Analysis Report\n",
    "with open('advanced_analysis_report.txt', 'w') as f:\n",
    "    f.write(\"Advanced Analysis Report\\n========================\\n\")\n",
    "    f.write(f\"PCA Explained Variance: {pca.explained_variance_ratio_}\\n\")\n",
    "    f.write(f\"Number of Isolation Forest anomalies: {(df['anomaly_iso']==-1).sum()}\\n\")\n",
    "    f.write(f\"Number of DBSCAN anomalies: {(df['anomaly_dbscan']==-1).sum()}\\n\")\n",
    "\n",
    "# Feature Engineering Summary\n",
    "with open('feature_engineering_summary.txt', 'w') as f:\n",
    "    f.write(\"Feature Engineering Summary\\n===========================\\n\")\n",
    "    for col in df.columns:\n",
    "        if 'rolling' in col or 'ema' in col or '_diff' in col:\n",
    "            f.write(f\"- {col}\\n\")\n"
   ]
  }
 ],
 "metadata": {
  "language_info": {
   "name": "python"
  }
 },
 "nbformat": 4,
 "nbformat_minor": 5
}
